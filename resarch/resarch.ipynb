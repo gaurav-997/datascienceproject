{
 "cells": [
  {
   "cell_type": "code",
   "execution_count": null,
   "id": "86383f86",
   "metadata": {
    "vscode": {
     "languageId": "plaintext"
    }
   },
   "outputs": [],
   "source": [
    "https://dagshub.com/chauhan7gaurav/datascienceproject.mlflow\n",
    "chauhan7gaurav \n",
    "74060f9fdeeba990c5da5628e310aea51648d1e2 "
   ]
  }
 ],
 "metadata": {
  "language_info": {
   "name": "python"
  }
 },
 "nbformat": 4,
 "nbformat_minor": 5
}
